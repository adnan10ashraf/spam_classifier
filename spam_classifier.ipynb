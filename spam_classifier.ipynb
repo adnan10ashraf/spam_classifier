{
  "nbformat": 4,
  "nbformat_minor": 0,
  "metadata": {
    "colab": {
      "provenance": [],
      "authorship_tag": "ABX9TyMY6qZ0Hb5FK/DGuapC/RIG"
    },
    "kernelspec": {
      "name": "python3",
      "display_name": "Python 3"
    },
    "language_info": {
      "name": "python"
    }
  },
  "cells": [
    {
      "cell_type": "code",
      "execution_count": null,
      "metadata": {
        "id": "do8N64i9NsGO"
      },
      "outputs": [],
      "source": [
        "import pandas as pd\n",
        "import numpy as np\n",
        "import matplotlib.pyplot as plt\n",
        "from sklearn import metrics\n",
        "from sklearn.model_selection import train_test_split\n",
        "from sklearn.feature_extraction.text import CountVectorizer\n",
        "from sklearn import svm\n",
        "from sklearn.pipeline import Pipeline\n",
        "from sklearn.model_selection import GridSearchCV\n",
        "from sklearn import linear_model\n",
        "from sklearn.decomposition import PCA\n",
        "from sklearn.preprocessing import StandardScaler"
      ]
    },
    {
      "cell_type": "code",
      "source": [
        "def modelStats(actual, predict):\n",
        "  return metrics.accuracy_score(actual, predict), metrics.precision_score(actual, predict), metrics.recall_score(actual, predict)"
      ],
      "metadata": {
        "id": "VWvmVITOmOve"
      },
      "execution_count": null,
      "outputs": []
    },
    {
      "cell_type": "code",
      "source": [
        "full_dataset = pd.read_csv('spam_ham_dataset.csv')\n",
        "full_dataset.head()"
      ],
      "metadata": {
        "colab": {
          "base_uri": "https://localhost:8080/",
          "height": 206
        },
        "id": "hFhyiupJOV7F",
        "outputId": "90e9be40-0895-4f42-c977-df1c10b9f1ac"
      },
      "execution_count": null,
      "outputs": [
        {
          "output_type": "execute_result",
          "data": {
            "text/plain": [
              "   Unnamed: 0 label                                               text  \\\n",
              "0         605   ham  Subject: enron methanol ; meter # : 988291\\r\\n...   \n",
              "1        2349   ham  Subject: hpl nom for january 9 , 2001\\r\\n( see...   \n",
              "2        3624   ham  Subject: neon retreat\\r\\nho ho ho , we ' re ar...   \n",
              "3        4685  spam  Subject: photoshop , windows , office . cheap ...   \n",
              "4        2030   ham  Subject: re : indian springs\\r\\nthis deal is t...   \n",
              "\n",
              "   label_num  \n",
              "0          0  \n",
              "1          0  \n",
              "2          0  \n",
              "3          1  \n",
              "4          0  "
            ],
            "text/html": [
              "\n",
              "  <div id=\"df-861d5c9d-251e-45ee-a52a-5115567241fd\" class=\"colab-df-container\">\n",
              "    <div>\n",
              "<style scoped>\n",
              "    .dataframe tbody tr th:only-of-type {\n",
              "        vertical-align: middle;\n",
              "    }\n",
              "\n",
              "    .dataframe tbody tr th {\n",
              "        vertical-align: top;\n",
              "    }\n",
              "\n",
              "    .dataframe thead th {\n",
              "        text-align: right;\n",
              "    }\n",
              "</style>\n",
              "<table border=\"1\" class=\"dataframe\">\n",
              "  <thead>\n",
              "    <tr style=\"text-align: right;\">\n",
              "      <th></th>\n",
              "      <th>Unnamed: 0</th>\n",
              "      <th>label</th>\n",
              "      <th>text</th>\n",
              "      <th>label_num</th>\n",
              "    </tr>\n",
              "  </thead>\n",
              "  <tbody>\n",
              "    <tr>\n",
              "      <th>0</th>\n",
              "      <td>605</td>\n",
              "      <td>ham</td>\n",
              "      <td>Subject: enron methanol ; meter # : 988291\\r\\n...</td>\n",
              "      <td>0</td>\n",
              "    </tr>\n",
              "    <tr>\n",
              "      <th>1</th>\n",
              "      <td>2349</td>\n",
              "      <td>ham</td>\n",
              "      <td>Subject: hpl nom for january 9 , 2001\\r\\n( see...</td>\n",
              "      <td>0</td>\n",
              "    </tr>\n",
              "    <tr>\n",
              "      <th>2</th>\n",
              "      <td>3624</td>\n",
              "      <td>ham</td>\n",
              "      <td>Subject: neon retreat\\r\\nho ho ho , we ' re ar...</td>\n",
              "      <td>0</td>\n",
              "    </tr>\n",
              "    <tr>\n",
              "      <th>3</th>\n",
              "      <td>4685</td>\n",
              "      <td>spam</td>\n",
              "      <td>Subject: photoshop , windows , office . cheap ...</td>\n",
              "      <td>1</td>\n",
              "    </tr>\n",
              "    <tr>\n",
              "      <th>4</th>\n",
              "      <td>2030</td>\n",
              "      <td>ham</td>\n",
              "      <td>Subject: re : indian springs\\r\\nthis deal is t...</td>\n",
              "      <td>0</td>\n",
              "    </tr>\n",
              "  </tbody>\n",
              "</table>\n",
              "</div>\n",
              "    <div class=\"colab-df-buttons\">\n",
              "\n",
              "  <div class=\"colab-df-container\">\n",
              "    <button class=\"colab-df-convert\" onclick=\"convertToInteractive('df-861d5c9d-251e-45ee-a52a-5115567241fd')\"\n",
              "            title=\"Convert this dataframe to an interactive table.\"\n",
              "            style=\"display:none;\">\n",
              "\n",
              "  <svg xmlns=\"http://www.w3.org/2000/svg\" height=\"24px\" viewBox=\"0 -960 960 960\">\n",
              "    <path d=\"M120-120v-720h720v720H120Zm60-500h600v-160H180v160Zm220 220h160v-160H400v160Zm0 220h160v-160H400v160ZM180-400h160v-160H180v160Zm440 0h160v-160H620v160ZM180-180h160v-160H180v160Zm440 0h160v-160H620v160Z\"/>\n",
              "  </svg>\n",
              "    </button>\n",
              "\n",
              "  <style>\n",
              "    .colab-df-container {\n",
              "      display:flex;\n",
              "      gap: 12px;\n",
              "    }\n",
              "\n",
              "    .colab-df-convert {\n",
              "      background-color: #E8F0FE;\n",
              "      border: none;\n",
              "      border-radius: 50%;\n",
              "      cursor: pointer;\n",
              "      display: none;\n",
              "      fill: #1967D2;\n",
              "      height: 32px;\n",
              "      padding: 0 0 0 0;\n",
              "      width: 32px;\n",
              "    }\n",
              "\n",
              "    .colab-df-convert:hover {\n",
              "      background-color: #E2EBFA;\n",
              "      box-shadow: 0px 1px 2px rgba(60, 64, 67, 0.3), 0px 1px 3px 1px rgba(60, 64, 67, 0.15);\n",
              "      fill: #174EA6;\n",
              "    }\n",
              "\n",
              "    .colab-df-buttons div {\n",
              "      margin-bottom: 4px;\n",
              "    }\n",
              "\n",
              "    [theme=dark] .colab-df-convert {\n",
              "      background-color: #3B4455;\n",
              "      fill: #D2E3FC;\n",
              "    }\n",
              "\n",
              "    [theme=dark] .colab-df-convert:hover {\n",
              "      background-color: #434B5C;\n",
              "      box-shadow: 0px 1px 3px 1px rgba(0, 0, 0, 0.15);\n",
              "      filter: drop-shadow(0px 1px 2px rgba(0, 0, 0, 0.3));\n",
              "      fill: #FFFFFF;\n",
              "    }\n",
              "  </style>\n",
              "\n",
              "    <script>\n",
              "      const buttonEl =\n",
              "        document.querySelector('#df-861d5c9d-251e-45ee-a52a-5115567241fd button.colab-df-convert');\n",
              "      buttonEl.style.display =\n",
              "        google.colab.kernel.accessAllowed ? 'block' : 'none';\n",
              "\n",
              "      async function convertToInteractive(key) {\n",
              "        const element = document.querySelector('#df-861d5c9d-251e-45ee-a52a-5115567241fd');\n",
              "        const dataTable =\n",
              "          await google.colab.kernel.invokeFunction('convertToInteractive',\n",
              "                                                    [key], {});\n",
              "        if (!dataTable) return;\n",
              "\n",
              "        const docLinkHtml = 'Like what you see? Visit the ' +\n",
              "          '<a target=\"_blank\" href=https://colab.research.google.com/notebooks/data_table.ipynb>data table notebook</a>'\n",
              "          + ' to learn more about interactive tables.';\n",
              "        element.innerHTML = '';\n",
              "        dataTable['output_type'] = 'display_data';\n",
              "        await google.colab.output.renderOutput(dataTable, element);\n",
              "        const docLink = document.createElement('div');\n",
              "        docLink.innerHTML = docLinkHtml;\n",
              "        element.appendChild(docLink);\n",
              "      }\n",
              "    </script>\n",
              "  </div>\n",
              "\n",
              "\n",
              "<div id=\"df-bb897b3f-b9f0-4a37-9e55-85c878b110e7\">\n",
              "  <button class=\"colab-df-quickchart\" onclick=\"quickchart('df-bb897b3f-b9f0-4a37-9e55-85c878b110e7')\"\n",
              "            title=\"Suggest charts\"\n",
              "            style=\"display:none;\">\n",
              "\n",
              "<svg xmlns=\"http://www.w3.org/2000/svg\" height=\"24px\"viewBox=\"0 0 24 24\"\n",
              "     width=\"24px\">\n",
              "    <g>\n",
              "        <path d=\"M19 3H5c-1.1 0-2 .9-2 2v14c0 1.1.9 2 2 2h14c1.1 0 2-.9 2-2V5c0-1.1-.9-2-2-2zM9 17H7v-7h2v7zm4 0h-2V7h2v10zm4 0h-2v-4h2v4z\"/>\n",
              "    </g>\n",
              "</svg>\n",
              "  </button>\n",
              "\n",
              "<style>\n",
              "  .colab-df-quickchart {\n",
              "      --bg-color: #E8F0FE;\n",
              "      --fill-color: #1967D2;\n",
              "      --hover-bg-color: #E2EBFA;\n",
              "      --hover-fill-color: #174EA6;\n",
              "      --disabled-fill-color: #AAA;\n",
              "      --disabled-bg-color: #DDD;\n",
              "  }\n",
              "\n",
              "  [theme=dark] .colab-df-quickchart {\n",
              "      --bg-color: #3B4455;\n",
              "      --fill-color: #D2E3FC;\n",
              "      --hover-bg-color: #434B5C;\n",
              "      --hover-fill-color: #FFFFFF;\n",
              "      --disabled-bg-color: #3B4455;\n",
              "      --disabled-fill-color: #666;\n",
              "  }\n",
              "\n",
              "  .colab-df-quickchart {\n",
              "    background-color: var(--bg-color);\n",
              "    border: none;\n",
              "    border-radius: 50%;\n",
              "    cursor: pointer;\n",
              "    display: none;\n",
              "    fill: var(--fill-color);\n",
              "    height: 32px;\n",
              "    padding: 0;\n",
              "    width: 32px;\n",
              "  }\n",
              "\n",
              "  .colab-df-quickchart:hover {\n",
              "    background-color: var(--hover-bg-color);\n",
              "    box-shadow: 0 1px 2px rgba(60, 64, 67, 0.3), 0 1px 3px 1px rgba(60, 64, 67, 0.15);\n",
              "    fill: var(--button-hover-fill-color);\n",
              "  }\n",
              "\n",
              "  .colab-df-quickchart-complete:disabled,\n",
              "  .colab-df-quickchart-complete:disabled:hover {\n",
              "    background-color: var(--disabled-bg-color);\n",
              "    fill: var(--disabled-fill-color);\n",
              "    box-shadow: none;\n",
              "  }\n",
              "\n",
              "  .colab-df-spinner {\n",
              "    border: 2px solid var(--fill-color);\n",
              "    border-color: transparent;\n",
              "    border-bottom-color: var(--fill-color);\n",
              "    animation:\n",
              "      spin 1s steps(1) infinite;\n",
              "  }\n",
              "\n",
              "  @keyframes spin {\n",
              "    0% {\n",
              "      border-color: transparent;\n",
              "      border-bottom-color: var(--fill-color);\n",
              "      border-left-color: var(--fill-color);\n",
              "    }\n",
              "    20% {\n",
              "      border-color: transparent;\n",
              "      border-left-color: var(--fill-color);\n",
              "      border-top-color: var(--fill-color);\n",
              "    }\n",
              "    30% {\n",
              "      border-color: transparent;\n",
              "      border-left-color: var(--fill-color);\n",
              "      border-top-color: var(--fill-color);\n",
              "      border-right-color: var(--fill-color);\n",
              "    }\n",
              "    40% {\n",
              "      border-color: transparent;\n",
              "      border-right-color: var(--fill-color);\n",
              "      border-top-color: var(--fill-color);\n",
              "    }\n",
              "    60% {\n",
              "      border-color: transparent;\n",
              "      border-right-color: var(--fill-color);\n",
              "    }\n",
              "    80% {\n",
              "      border-color: transparent;\n",
              "      border-right-color: var(--fill-color);\n",
              "      border-bottom-color: var(--fill-color);\n",
              "    }\n",
              "    90% {\n",
              "      border-color: transparent;\n",
              "      border-bottom-color: var(--fill-color);\n",
              "    }\n",
              "  }\n",
              "</style>\n",
              "\n",
              "  <script>\n",
              "    async function quickchart(key) {\n",
              "      const quickchartButtonEl =\n",
              "        document.querySelector('#' + key + ' button');\n",
              "      quickchartButtonEl.disabled = true;  // To prevent multiple clicks.\n",
              "      quickchartButtonEl.classList.add('colab-df-spinner');\n",
              "      try {\n",
              "        const charts = await google.colab.kernel.invokeFunction(\n",
              "            'suggestCharts', [key], {});\n",
              "      } catch (error) {\n",
              "        console.error('Error during call to suggestCharts:', error);\n",
              "      }\n",
              "      quickchartButtonEl.classList.remove('colab-df-spinner');\n",
              "      quickchartButtonEl.classList.add('colab-df-quickchart-complete');\n",
              "    }\n",
              "    (() => {\n",
              "      let quickchartButtonEl =\n",
              "        document.querySelector('#df-bb897b3f-b9f0-4a37-9e55-85c878b110e7 button');\n",
              "      quickchartButtonEl.style.display =\n",
              "        google.colab.kernel.accessAllowed ? 'block' : 'none';\n",
              "    })();\n",
              "  </script>\n",
              "</div>\n",
              "    </div>\n",
              "  </div>\n"
            ],
            "application/vnd.google.colaboratory.intrinsic+json": {
              "type": "dataframe",
              "variable_name": "full_dataset",
              "summary": "{\n  \"name\": \"full_dataset\",\n  \"rows\": 5171,\n  \"fields\": [\n    {\n      \"column\": \"Unnamed: 0\",\n      \"properties\": {\n        \"dtype\": \"number\",\n        \"std\": 1492,\n        \"min\": 0,\n        \"max\": 5170,\n        \"num_unique_values\": 5171,\n        \"samples\": [\n          2924,\n          3839,\n          3078\n        ],\n        \"semantic_type\": \"\",\n        \"description\": \"\"\n      }\n    },\n    {\n      \"column\": \"label\",\n      \"properties\": {\n        \"dtype\": \"category\",\n        \"num_unique_values\": 2,\n        \"samples\": [\n          \"spam\",\n          \"ham\"\n        ],\n        \"semantic_type\": \"\",\n        \"description\": \"\"\n      }\n    },\n    {\n      \"column\": \"text\",\n      \"properties\": {\n        \"dtype\": \"string\",\n        \"num_unique_values\": 4993,\n        \"samples\": [\n          \"Subject: hpl / conoco - teco waha 03 / 23 / 01 purchase\\r\\ndaren , conoco invoiced hpl at $ 5 . 87 for 03 / 23 at pgev / waha and deal ticket 685350 shows $ 4 . 87 . can you confirm the price ? thanks .\",\n          \"Subject: holiday on - call data\\r\\npipeline contact phone fax pager\\r\\nblack marlin blair lichentwalter 713 853 - 7367 713 646 - 3201 ( h )\\r\\n281 370 - 1866\\r\\ndebbie thompson 713 853 - 3144 713 646 - 3201\\r\\n( noms due today for 23 rd through 27 th )\\r\\nchannel jim tobacco 713 420 - 2159\\r\\ngas control 1 505 599 - 2333\\r\\n( open thursday . noms will be due through monday )\\r\\ncentana william spekels 713 627 - 6290 713 762 - 3450\\r\\ndonna spencer 713 627 - 6255\\r\\ngas control 1 888 204 - 1718\\r\\n( noms due today for 23 rd through 27 th )\\r\\nduke energy annette anderson 713 260 - 8603 713 949 - 3026\\r\\n( on call ) bob moseman 713 - 260 - 8698 ( thursday )\\r\\nopen tomorrow - noms will be due thru the 27 th )\\r\\nlonestar gary gafford 214 670 - 2674 214 875 - 3810\\r\\ngas control 214 875 - 2455 or 2456\\r\\n( noms due today , 23 rd thru 27 th )\\r\\nnorthern natural ben markey 853 - 7581 cell 713 446 - 9404 800 931 - 0398\\r\\n( on call ) charlie mosey 853 - 1520\\r\\ngas control 853 -\\r\\n( open thursday - noms due thru 27 th . )\\r\\neast trans - east texas\\r\\ntejas gas control 713 767 - 5366\\r\\npaula svehla 713 230 - 3569\\r\\nmickey chapman 713 230 - 3546\\r\\n( open thursday - noms due thru 27 th )\\r\\nmidcon ( y 2 k ) ken nachlinger 713 369 - 9284 713 369 - 9375 888 733 - 5954\\r\\n( on call ) steven 888 790 - 0255\\r\\n( y 2 k ) don 888 733 - 4602\\r\\ngas control 713 369 - 9200\\r\\n( noms due today , 23 rd thru 27 th )\\r\\nmoss bluff no current business\"\n        ],\n        \"semantic_type\": \"\",\n        \"description\": \"\"\n      }\n    },\n    {\n      \"column\": \"label_num\",\n      \"properties\": {\n        \"dtype\": \"number\",\n        \"std\": 0,\n        \"min\": 0,\n        \"max\": 1,\n        \"num_unique_values\": 2,\n        \"samples\": [\n          1,\n          0\n        ],\n        \"semantic_type\": \"\",\n        \"description\": \"\"\n      }\n    }\n  ]\n}"
            }
          },
          "metadata": {},
          "execution_count": 3
        }
      ]
    },
    {
      "cell_type": "code",
      "source": [
        "# Check whether the label and label_num match up\n",
        "np.sum((full_dataset['label'] == 'spam').astype(int) != full_dataset['label_num']) == 0"
      ],
      "metadata": {
        "colab": {
          "base_uri": "https://localhost:8080/"
        },
        "id": "ZtWs7p2UOx4o",
        "outputId": "0d57d0c5-e1f6-4e71-e3c6-57966325062e"
      },
      "execution_count": null,
      "outputs": [
        {
          "output_type": "execute_result",
          "data": {
            "text/plain": [
              "True"
            ]
          },
          "metadata": {},
          "execution_count": 4
        }
      ]
    },
    {
      "cell_type": "code",
      "source": [
        "# Check counts of spam and ham emails\n",
        "full_dataset['label'].value_counts()"
      ],
      "metadata": {
        "colab": {
          "base_uri": "https://localhost:8080/"
        },
        "id": "pS1Oin8yeOKf",
        "outputId": "68a9365c-65d1-40f4-e6c2-f81e95296a60"
      },
      "execution_count": null,
      "outputs": [
        {
          "output_type": "execute_result",
          "data": {
            "text/plain": [
              "label\n",
              "ham     3672\n",
              "spam    1499\n",
              "Name: count, dtype: int64"
            ]
          },
          "metadata": {},
          "execution_count": 5
        }
      ]
    },
    {
      "cell_type": "markdown",
      "source": [
        "Split into Training and Test Set"
      ],
      "metadata": {
        "id": "VCCl7YCsN7ig"
      }
    },
    {
      "cell_type": "code",
      "source": [
        "# Split Dataset into training and test set\n",
        "x_data, y_data = full_dataset['text'], full_dataset['label_num']\n",
        "x_train, x_test, y_train, y_test = train_test_split(x_data, y_data, test_size=0.1, random_state=41)\n",
        "len(x_train), len(x_test)"
      ],
      "metadata": {
        "colab": {
          "base_uri": "https://localhost:8080/"
        },
        "id": "9LnvE1X5PVim",
        "outputId": "bdf40ad9-64bd-4e36-8783-95bcd5206b81"
      },
      "execution_count": null,
      "outputs": [
        {
          "output_type": "execute_result",
          "data": {
            "text/plain": [
              "(4653, 518)"
            ]
          },
          "metadata": {},
          "execution_count": 6
        }
      ]
    },
    {
      "cell_type": "code",
      "source": [
        "# Check how well distributed spam and ham emails are in train and test sets\n",
        "prop_spam_train, prop_spam_test = y_train.value_counts().loc[1] / len(y_train) , y_test.value_counts().loc[1] / len(y_test)\n",
        "print('Proportion of spam emails in training set: ', prop_spam_train)\n",
        "print('Proportion of spam emails in test set: ', prop_spam_test)"
      ],
      "metadata": {
        "colab": {
          "base_uri": "https://localhost:8080/"
        },
        "id": "4SEixlljRR2p",
        "outputId": "d71929e0-7371-47b1-828b-a1c8901eeb3d"
      },
      "execution_count": null,
      "outputs": [
        {
          "output_type": "stream",
          "name": "stdout",
          "text": [
            "Proportion of spam emails in training set:  0.28841607565011823\n",
            "Proportion of spam emails in test set:  0.3030888030888031\n"
          ]
        }
      ]
    },
    {
      "cell_type": "markdown",
      "source": [
        "Feature engineering"
      ],
      "metadata": {
        "id": "uuVEPy5SN_Fp"
      }
    },
    {
      "cell_type": "code",
      "source": [
        "# Count vectorizer used to count occurences of words in each email\n",
        "cv = CountVectorizer(stop_words='english', min_df=100, max_df=4000)\n",
        "cv.fit(x_train)\n",
        "x_train_counts = cv.transform(x_train).toarray()\n",
        "x_train_counts.shape"
      ],
      "metadata": {
        "colab": {
          "base_uri": "https://localhost:8080/"
        },
        "id": "Ct1OAeHMRUQs",
        "outputId": "581b7cfa-dfc8-4d1f-a622-7f82ce0824fe"
      },
      "execution_count": null,
      "outputs": [
        {
          "output_type": "execute_result",
          "data": {
            "text/plain": [
              "(4653, 455)"
            ]
          },
          "metadata": {},
          "execution_count": 8
        }
      ]
    },
    {
      "cell_type": "markdown",
      "source": [
        "SVM Naive"
      ],
      "metadata": {
        "id": "tqK4PNeKjFTO"
      }
    },
    {
      "cell_type": "code",
      "source": [
        "# Create naive model\n",
        "model = svm.SVC(kernel='linear')\n",
        "model.fit(x_train_counts, y_train)"
      ],
      "metadata": {
        "colab": {
          "base_uri": "https://localhost:8080/",
          "height": 74
        },
        "id": "uYCHkJuggryo",
        "outputId": "24362d19-b532-4402-d7fa-44d862af18a9"
      },
      "execution_count": null,
      "outputs": [
        {
          "output_type": "execute_result",
          "data": {
            "text/plain": [
              "SVC(kernel='linear')"
            ],
            "text/html": [
              "<style>#sk-container-id-1 {color: black;background-color: white;}#sk-container-id-1 pre{padding: 0;}#sk-container-id-1 div.sk-toggleable {background-color: white;}#sk-container-id-1 label.sk-toggleable__label {cursor: pointer;display: block;width: 100%;margin-bottom: 0;padding: 0.3em;box-sizing: border-box;text-align: center;}#sk-container-id-1 label.sk-toggleable__label-arrow:before {content: \"▸\";float: left;margin-right: 0.25em;color: #696969;}#sk-container-id-1 label.sk-toggleable__label-arrow:hover:before {color: black;}#sk-container-id-1 div.sk-estimator:hover label.sk-toggleable__label-arrow:before {color: black;}#sk-container-id-1 div.sk-toggleable__content {max-height: 0;max-width: 0;overflow: hidden;text-align: left;background-color: #f0f8ff;}#sk-container-id-1 div.sk-toggleable__content pre {margin: 0.2em;color: black;border-radius: 0.25em;background-color: #f0f8ff;}#sk-container-id-1 input.sk-toggleable__control:checked~div.sk-toggleable__content {max-height: 200px;max-width: 100%;overflow: auto;}#sk-container-id-1 input.sk-toggleable__control:checked~label.sk-toggleable__label-arrow:before {content: \"▾\";}#sk-container-id-1 div.sk-estimator input.sk-toggleable__control:checked~label.sk-toggleable__label {background-color: #d4ebff;}#sk-container-id-1 div.sk-label input.sk-toggleable__control:checked~label.sk-toggleable__label {background-color: #d4ebff;}#sk-container-id-1 input.sk-hidden--visually {border: 0;clip: rect(1px 1px 1px 1px);clip: rect(1px, 1px, 1px, 1px);height: 1px;margin: -1px;overflow: hidden;padding: 0;position: absolute;width: 1px;}#sk-container-id-1 div.sk-estimator {font-family: monospace;background-color: #f0f8ff;border: 1px dotted black;border-radius: 0.25em;box-sizing: border-box;margin-bottom: 0.5em;}#sk-container-id-1 div.sk-estimator:hover {background-color: #d4ebff;}#sk-container-id-1 div.sk-parallel-item::after {content: \"\";width: 100%;border-bottom: 1px solid gray;flex-grow: 1;}#sk-container-id-1 div.sk-label:hover label.sk-toggleable__label {background-color: #d4ebff;}#sk-container-id-1 div.sk-serial::before {content: \"\";position: absolute;border-left: 1px solid gray;box-sizing: border-box;top: 0;bottom: 0;left: 50%;z-index: 0;}#sk-container-id-1 div.sk-serial {display: flex;flex-direction: column;align-items: center;background-color: white;padding-right: 0.2em;padding-left: 0.2em;position: relative;}#sk-container-id-1 div.sk-item {position: relative;z-index: 1;}#sk-container-id-1 div.sk-parallel {display: flex;align-items: stretch;justify-content: center;background-color: white;position: relative;}#sk-container-id-1 div.sk-item::before, #sk-container-id-1 div.sk-parallel-item::before {content: \"\";position: absolute;border-left: 1px solid gray;box-sizing: border-box;top: 0;bottom: 0;left: 50%;z-index: -1;}#sk-container-id-1 div.sk-parallel-item {display: flex;flex-direction: column;z-index: 1;position: relative;background-color: white;}#sk-container-id-1 div.sk-parallel-item:first-child::after {align-self: flex-end;width: 50%;}#sk-container-id-1 div.sk-parallel-item:last-child::after {align-self: flex-start;width: 50%;}#sk-container-id-1 div.sk-parallel-item:only-child::after {width: 0;}#sk-container-id-1 div.sk-dashed-wrapped {border: 1px dashed gray;margin: 0 0.4em 0.5em 0.4em;box-sizing: border-box;padding-bottom: 0.4em;background-color: white;}#sk-container-id-1 div.sk-label label {font-family: monospace;font-weight: bold;display: inline-block;line-height: 1.2em;}#sk-container-id-1 div.sk-label-container {text-align: center;}#sk-container-id-1 div.sk-container {/* jupyter's `normalize.less` sets `[hidden] { display: none; }` but bootstrap.min.css set `[hidden] { display: none !important; }` so we also need the `!important` here to be able to override the default hidden behavior on the sphinx rendered scikit-learn.org. See: https://github.com/scikit-learn/scikit-learn/issues/21755 */display: inline-block !important;position: relative;}#sk-container-id-1 div.sk-text-repr-fallback {display: none;}</style><div id=\"sk-container-id-1\" class=\"sk-top-container\"><div class=\"sk-text-repr-fallback\"><pre>SVC(kernel=&#x27;linear&#x27;)</pre><b>In a Jupyter environment, please rerun this cell to show the HTML representation or trust the notebook. <br />On GitHub, the HTML representation is unable to render, please try loading this page with nbviewer.org.</b></div><div class=\"sk-container\" hidden><div class=\"sk-item\"><div class=\"sk-estimator sk-toggleable\"><input class=\"sk-toggleable__control sk-hidden--visually\" id=\"sk-estimator-id-1\" type=\"checkbox\" checked><label for=\"sk-estimator-id-1\" class=\"sk-toggleable__label sk-toggleable__label-arrow\">SVC</label><div class=\"sk-toggleable__content\"><pre>SVC(kernel=&#x27;linear&#x27;)</pre></div></div></div></div></div>"
            ]
          },
          "metadata": {},
          "execution_count": 9
        }
      ]
    },
    {
      "cell_type": "code",
      "source": [
        "# Naive evaluation of training set training model on full training set\n",
        "y_train_predict = model.predict(x_train_counts)\n",
        "modelStats(y_train, y_train_predict)"
      ],
      "metadata": {
        "colab": {
          "base_uri": "https://localhost:8080/"
        },
        "id": "Y3kJFXirkMXw",
        "outputId": "c82e9af9-0384-4fc0-ddd2-abcf3a87ea97"
      },
      "execution_count": null,
      "outputs": [
        {
          "output_type": "execute_result",
          "data": {
            "text/plain": [
              "(0.991833225875779, 0.9745269286754003, 0.9977645305514158)"
            ]
          },
          "metadata": {},
          "execution_count": 10
        }
      ]
    },
    {
      "cell_type": "markdown",
      "source": [
        "SVM with cross validation"
      ],
      "metadata": {
        "id": "mUlVXwI7OFZs"
      }
    },
    {
      "cell_type": "code",
      "source": [
        "# Pipeline model to then use to run grid search cross validation\n",
        "# pipe = Pipeline([('count-vec', CountVectorizer(stop_words='english')), ('svm', svm.SVC())])\n",
        "# grid = {\n",
        "#     'count-vec__min_df': [30, 40, 50, 75, 100],\n",
        "#     'count-vec__max_df': [3500, 4000, 4500],\n",
        "#     'count-vec__binary': [True, False],\n",
        "#     'svm__kernel': ['rbf', 'linear', 'sigmoid'],\n",
        "#     'svm__C': [1.0, 15.0, 50.0]\n",
        "# }\n",
        "# grid_search = GridSearchCV(pipe, param_grid=grid)\n",
        "# grid_search.fit(x_train, y_train)"
      ],
      "metadata": {
        "id": "3bRMJErvswXi"
      },
      "execution_count": null,
      "outputs": []
    },
    {
      "cell_type": "code",
      "source": [
        "# grid_search.best_params_, grid_search.best_score_"
      ],
      "metadata": {
        "id": "9qkxtIafEUeD"
      },
      "execution_count": null,
      "outputs": []
    },
    {
      "cell_type": "code",
      "source": [
        "# Extract best model from grid search\n",
        "# best_model = grid_search.best_estimator_\n",
        "# best_train_predictions = best_model.predict(x_train)\n",
        "# modelStats(y_train, best_train_predictions)"
      ],
      "metadata": {
        "id": "nNMH9RsI8izi"
      },
      "execution_count": null,
      "outputs": []
    },
    {
      "cell_type": "markdown",
      "source": [
        "Uncomment above code this is just the best stuff from the grid search"
      ],
      "metadata": {
        "id": "TXFchD9l3lwm"
      }
    },
    {
      "cell_type": "code",
      "source": [
        "# filler cell\n",
        "best_model = Pipeline([('count-vec', CountVectorizer(stop_words='english', max_df=3500, min_df=40)), ('svm', svm.SVC(kernel='rbf', C=50.0))])\n",
        "best_model.fit(x_train, y_train)\n",
        "best_train_predictions = best_model.predict(x_train)\n",
        "modelStats(y_train, best_train_predictions)"
      ],
      "metadata": {
        "colab": {
          "base_uri": "https://localhost:8080/"
        },
        "id": "mkIq341Q3BAQ",
        "outputId": "d271c80a-3c3c-411e-90fa-857aee7a506e"
      },
      "execution_count": null,
      "outputs": [
        {
          "output_type": "execute_result",
          "data": {
            "text/plain": [
              "(0.9926928863099076, 0.9759825327510917, 0.9992548435171386)"
            ]
          },
          "metadata": {},
          "execution_count": 14
        }
      ]
    },
    {
      "cell_type": "code",
      "source": [
        "# Evaluate test set\n",
        "test_predictions = best_model.predict(x_test)\n",
        "modelStats(y_test, test_predictions)"
      ],
      "metadata": {
        "colab": {
          "base_uri": "https://localhost:8080/"
        },
        "id": "VHKkc5_k_W1i",
        "outputId": "ad87ffe7-af2b-48d7-95ad-3cc9dd874c65"
      },
      "execution_count": null,
      "outputs": [
        {
          "output_type": "execute_result",
          "data": {
            "text/plain": [
              "(0.9536679536679536, 0.8982035928143712, 0.9554140127388535)"
            ]
          },
          "metadata": {},
          "execution_count": 15
        }
      ]
    },
    {
      "cell_type": "markdown",
      "source": [
        "PCA Analysis"
      ],
      "metadata": {
        "id": "GjmyTrom5PsT"
      }
    },
    {
      "cell_type": "code",
      "source": [
        "vectorizer = CountVectorizer(stop_words='english', max_df=3500, min_df=40)\n",
        "x_train_vectorized = vectorizer.fit_transform(x_train).toarray()\n",
        "x_test_vectorized = vectorizer.transform(x_test).toarray()\n",
        "\n",
        "sc = StandardScaler()\n",
        "x_train_vec_scaled = sc.fit_transform(x_train_vectorized)\n",
        "x_test_vec_scaled = sc.fit_transform(x_test_vectorized)\n",
        "\n",
        "pca = PCA(n_components=3)\n",
        "x_train_pca = pca.fit_transform(x_train_vec_scaled)\n",
        "\n",
        "pca.explained_variance_ratio_"
      ],
      "metadata": {
        "colab": {
          "base_uri": "https://localhost:8080/"
        },
        "id": "LLdxR4sD3v4L",
        "outputId": "2d9515f0-a120-4d4e-b2b8-57f09bee5a3d"
      },
      "execution_count": null,
      "outputs": [
        {
          "output_type": "execute_result",
          "data": {
            "text/plain": [
              "array([0.03967668, 0.0250512 , 0.02413683])"
            ]
          },
          "metadata": {},
          "execution_count": 30
        }
      ]
    },
    {
      "cell_type": "code",
      "source": [
        "pca_all = PCA()\n",
        "pca_all.fit(x_train_vec_scaled)\n",
        "sv_var_ratio = pca_all.explained_variance_ratio_\n",
        "plt.plot(np.arange(len(sv_var_ratio)), sv_var_ratio)\n",
        "plt.title('Scree Plot')\n",
        "plt.xlabel('Principal Component')\n",
        "plt.ylabel('Explained Variance Ratio')"
      ],
      "metadata": {
        "colab": {
          "base_uri": "https://localhost:8080/",
          "height": 489
        },
        "id": "_-B0QoxuJjv1",
        "outputId": "ee4949e7-dbfc-4e0e-f8b5-2cf2b65eac2f"
      },
      "execution_count": null,
      "outputs": [
        {
          "output_type": "execute_result",
          "data": {
            "text/plain": [
              "Text(0, 0.5, 'Explained Variance Ratio')"
            ]
          },
          "metadata": {},
          "execution_count": 19
        },
        {
          "output_type": "display_data",
          "data": {
            "text/plain": [
              "<Figure size 640x480 with 1 Axes>"
            ],
            "image/png": "[encoded data removed]"
          },
          "metadata": {}
        }
      ]
    },
    {
      "cell_type": "code",
      "source": [
        "plt.scatter(x_train_pca[:,0], x_train_pca[:,1], s=1, c=y_train, cmap='plasma')\n",
        "plt.xlabel('PC1')\n",
        "plt.ylabel('PC2')\n",
        "plt.title('Training Data Projected Along PC1 and PC2')"
      ],
      "metadata": {
        "colab": {
          "base_uri": "https://localhost:8080/",
          "height": 489
        },
        "id": "WlgOYeMj6CRZ",
        "outputId": "6e10b9d5-33a4-46b9-ccc0-3739b12b6d2e"
      },
      "execution_count": null,
      "outputs": [
        {
          "output_type": "execute_result",
          "data": {
            "text/plain": [
              "Text(0.5, 1.0, 'Training Data Projected Along PC1 and PC2')"
            ]
          },
          "metadata": {},
          "execution_count": 48
        },
        {
          "output_type": "display_data",
          "data": {
            "text/plain": [
              "<Figure size 640x480 with 1 Axes>"
            ],
            "image/png": "[encoded data removed]"
          },
          "metadata": {}
        }
      ]
    },
    {
      "cell_type": "code",
      "source": [
        "from mpl_toolkits.mplot3d import Axes3D\n",
        "fig = plt.figure(figsize=(10,10))\n",
        "\n",
        "# choose projection 3d for creating a 3d graph\n",
        "axis = fig.add_subplot(111, projection='3d')\n",
        "\n",
        "\n",
        "# x[:,0]is pc1,x[:,1] is pc2 while x[:,2] is pc3\n",
        "axis.scatter(x_train_pca[:,0],x_train_pca[:,1],x_train_pca[:,2], c=y_train,cmap='plasma')\n",
        "axis.set_xlabel(\"PC1\", fontsize=10)\n",
        "axis.set_ylabel(\"PC2\", fontsize=10)\n",
        "axis.set_zlabel(\"PC3\", fontsize=10)\n",
        "\n",
        "axis.view_init(-180,70)"
      ],
      "metadata": {
        "colab": {
          "base_uri": "https://localhost:8080/",
          "height": 807
        },
        "id": "XgMPd7qpFKRM",
        "outputId": "810a1531-63ae-4b1e-e614-f7a5eecc1600"
      },
      "execution_count": null,
      "outputs": [
        {
          "output_type": "display_data",
          "data": {
            "text/plain": [
              "<Figure size 1000x1000 with 1 Axes>"
            ],
            "image/png": "[encoded data removed]"
          },
          "metadata": {}
        }
      ]
    },
    {
      "cell_type": "code",
      "source": [
        "svm_pca = Pipeline([('pca', PCA(n_components=50)), ('svm', svm.SVC())])\n",
        "svm_pca_grid = {\n",
        "    'pca__n_components': [70, 80, 90, 100],\n",
        "    'svm__C': [40.0, 50.0]\n",
        "}\n",
        "svm_pca_grid_search = GridSearchCV(svm_pca, svm_pca_grid)\n",
        "svm_pca_grid_search.fit(x_train_vec_scaled, y_train)\n",
        "svm_pca_grid_search.best_params_, svm_pca_grid_search.best_score_"
      ],
      "metadata": {
        "colab": {
          "base_uri": "https://localhost:8080/"
        },
        "id": "ixsCbXLWSiLV",
        "outputId": "2e071aa5-86cd-4631-c64c-4918a490b294"
      },
      "execution_count": null,
      "outputs": [
        {
          "output_type": "execute_result",
          "data": {
            "text/plain": [
              "({'pca__n_components': 80, 'svm__C': 40.0}, 0.9638929120035111)"
            ]
          },
          "metadata": {},
          "execution_count": 27
        }
      ]
    },
    {
      "cell_type": "code",
      "source": [
        "svm_pca_grid_search.cv_results_"
      ],
      "metadata": {
        "colab": {
          "base_uri": "https://localhost:8080/"
        },
        "id": "lJIEy1HVTmDx",
        "outputId": "689e3043-f6ff-4e1e-d8cf-7ae048eabd2f"
      },
      "execution_count": null,
      "outputs": [
        {
          "output_type": "execute_result",
          "data": {
            "text/plain": [
              "{'mean_fit_time': array([1.59499931, 1.36757026, 1.57663803, 1.67223887, 1.51324272,\n",
              "        1.7921267 , 1.91109428, 1.77166624]),\n",
              " 'std_fit_time': array([0.33998986, 0.1439754 , 0.28873658, 0.30424501, 0.02759239,\n",
              "        0.3342376 , 0.32620195, 0.14319067]),\n",
              " 'mean_score_time': array([0.15364962, 0.11467986, 0.10205264, 0.10882592, 0.11990376,\n",
              "        0.13095679, 0.13612652, 0.12892065]),\n",
              " 'std_score_time': array([0.05977162, 0.02723121, 0.00244752, 0.01504931, 0.00382168,\n",
              "        0.03110688, 0.02844231, 0.02749479]),\n",
              " 'param_pca__n_components': masked_array(data=[70, 70, 80, 80, 90, 90, 100, 100],\n",
              "              mask=[False, False, False, False, False, False, False, False],\n",
              "        fill_value='?',\n",
              "             dtype=object),\n",
              " 'param_svm__C': masked_array(data=[40.0, 50.0, 40.0, 50.0, 40.0, 50.0, 40.0, 50.0],\n",
              "              mask=[False, False, False, False, False, False, False, False],\n",
              "        fill_value='?',\n",
              "             dtype=object),\n",
              " 'params': [{'pca__n_components': 70, 'svm__C': 40.0},\n",
              "  {'pca__n_components': 70, 'svm__C': 50.0},\n",
              "  {'pca__n_components': 80, 'svm__C': 40.0},\n",
              "  {'pca__n_components': 80, 'svm__C': 50.0},\n",
              "  {'pca__n_components': 90, 'svm__C': 40.0},\n",
              "  {'pca__n_components': 90, 'svm__C': 50.0},\n",
              "  {'pca__n_components': 100, 'svm__C': 40.0},\n",
              "  {'pca__n_components': 100, 'svm__C': 50.0}],\n",
              " 'split0_test_score': array([0.96562836, 0.96562836, 0.97207304, 0.96670247, 0.96670247,\n",
              "        0.96777658, 0.96670247, 0.96562836]),\n",
              " 'split1_test_score': array([0.95488722, 0.95918367, 0.95703545, 0.95488722, 0.95810956,\n",
              "        0.95596133, 0.95596133, 0.95488722]),\n",
              " 'split2_test_score': array([0.96455424, 0.96777658, 0.9688507 , 0.96777658, 0.96670247,\n",
              "        0.96777658, 0.96670247, 0.96670247]),\n",
              " 'split3_test_score': array([0.96451613, 0.96774194, 0.96451613, 0.96236559, 0.9655914 ,\n",
              "        0.96666667, 0.96774194, 0.96666667]),\n",
              " 'split4_test_score': array([0.95376344, 0.95591398, 0.95698925, 0.95913978, 0.95268817,\n",
              "        0.95268817, 0.9483871 , 0.95053763]),\n",
              " 'mean_test_score': array([0.96066988, 0.96324891, 0.96389291, 0.96217433, 0.96195881,\n",
              "        0.96217387, 0.96109906, 0.96088447]),\n",
              " 'std_test_score': array([0.00520781, 0.00483066, 0.00610849, 0.00477988, 0.00563847,\n",
              "        0.00650446, 0.00768003, 0.00682366]),\n",
              " 'rank_test_score': array([8, 2, 1, 3, 5, 4, 6, 7], dtype=int32)}"
            ]
          },
          "metadata": {},
          "execution_count": 28
        }
      ]
    },
    {
      "cell_type": "code",
      "source": [
        "svm_pca_model = Pipeline([('pca', PCA(n_components=70)), ('svm', svm.SVC(C=50.0))])\n",
        "svm_pca_model.fit(x_train_vec_scaled, y_train)\n",
        "\n",
        "pca_test_predictions = svm_pca_model.predict(x_test_vec_scaled)\n",
        "modelStats(y_test, pca_test_predictions)"
      ],
      "metadata": {
        "colab": {
          "base_uri": "https://localhost:8080/"
        },
        "id": "4-S8mLMyTmGt",
        "outputId": "bbec4bfe-a4ac-45c6-8616-e11473d7f684"
      },
      "execution_count": null,
      "outputs": [
        {
          "output_type": "execute_result",
          "data": {
            "text/plain": [
              "(0.9478764478764479, 0.90625, 0.9235668789808917)"
            ]
          },
          "metadata": {},
          "execution_count": 33
        }
      ]
    },
    {
      "cell_type": "markdown",
      "source": [
        "Logistic Regression pipelined with PCA"
      ],
      "metadata": {
        "id": "tI6p-rvdjLHV"
      }
    },
    {
      "cell_type": "code",
      "source": [
        "lr_pca_model = Pipeline([('pca', PCA(n_components=70)), ('lr', linear_model.LogisticRegressionCV(cv=5, max_iter=500))])\n",
        "lr_pca_model.fit(x_train_vec_scaled, y_train)\n",
        "\n",
        "pca_train_predictions = lr_pca_model.predict(x_train_vec_scaled)\n",
        "modelStats(y_train, pca_train_predictions)"
      ],
      "metadata": {
        "colab": {
          "base_uri": "https://localhost:8080/"
        },
        "id": "JOZgmTwSb-2o",
        "outputId": "3efd339b-b943-4165-8497-6edbf7d1b0f2"
      },
      "execution_count": null,
      "outputs": [
        {
          "output_type": "execute_result",
          "data": {
            "text/plain": [
              "(0.9649688373092629, 0.9274836838288615, 0.9530551415797317)"
            ]
          },
          "metadata": {},
          "execution_count": 40
        }
      ]
    },
    {
      "cell_type": "code",
      "source": [
        "lr_pca_cv = GridSearchCV(lr_pca_model, {'pca__n_components': [60,70,80,90,100]})\n",
        "lr_pca_cv.fit(x_train_vec_scaled, y_train)\n",
        "lr_pca_cv.cv_results_, lr_pca_cv.best_params_, lr_pca_cv.best_score_"
      ],
      "metadata": {
        "colab": {
          "base_uri": "https://localhost:8080/"
        },
        "id": "-GWY3o5RdA9l",
        "outputId": "db0a68fc-ad2e-4c67-ccba-369dbc4c18b3"
      },
      "execution_count": null,
      "outputs": [
        {
          "output_type": "execute_result",
          "data": {
            "text/plain": [
              "({'mean_fit_time': array([5.82271028, 3.61278367, 3.47417884, 4.25339918, 4.33195724]),\n",
              "  'std_fit_time': array([1.19977462, 1.0575415 , 0.44655664, 0.77545362, 0.8280011 ]),\n",
              "  'mean_score_time': array([0.03018799, 0.01468849, 0.01451006, 0.01705341, 0.01395307]),\n",
              "  'std_score_time': array([0.01111481, 0.00519442, 0.00360245, 0.00670411, 0.0003762 ]),\n",
              "  'param_pca__n_components': masked_array(data=[60, 70, 80, 90, 100],\n",
              "               mask=[False, False, False, False, False],\n",
              "         fill_value='?',\n",
              "              dtype=object),\n",
              "  'params': [{'pca__n_components': 60},\n",
              "   {'pca__n_components': 70},\n",
              "   {'pca__n_components': 80},\n",
              "   {'pca__n_components': 90},\n",
              "   {'pca__n_components': 100}],\n",
              "  'split0_test_score': array([0.95596133, 0.9613319 , 0.9613319 , 0.95918367, 0.96348013]),\n",
              "  'split1_test_score': array([0.94629431, 0.96025779, 0.94629431, 0.95273899, 0.9538131 ]),\n",
              "  'split2_test_score': array([0.9688507 , 0.96992481, 0.96992481, 0.96777658, 0.9688507 ]),\n",
              "  'split3_test_score': array([0.95376344, 0.95376344, 0.95591398, 0.95483871, 0.95698925]),\n",
              "  'split4_test_score': array([0.95698925, 0.95806452, 0.95698925, 0.95806452, 0.95806452]),\n",
              "  'mean_test_score': array([0.95637181, 0.96066849, 0.95809085, 0.95852049, 0.96023954]),\n",
              "  'std_test_score': array([0.00727505, 0.00530563, 0.0076897 , 0.00516341, 0.00531503]),\n",
              "  'rank_test_score': array([5, 1, 4, 3, 2], dtype=int32)},\n",
              " {'pca__n_components': 70},\n",
              " 0.9606684915052608)"
            ]
          },
          "metadata": {},
          "execution_count": 43
        }
      ]
    },
    {
      "cell_type": "code",
      "source": [
        "lr_pca_cv_model = lr_pca_cv.best_estimator_\n",
        "lr_pca_cv_predictions = lr_pca_cv_model.predict(x_test_vec_scaled)\n",
        "modelStats(y_test, lr_pca_cv_predictions)"
      ],
      "metadata": {
        "colab": {
          "base_uri": "https://localhost:8080/"
        },
        "id": "W3MdqQCampy0",
        "outputId": "0be3b261-208f-4733-e49e-c52d24a76a43"
      },
      "execution_count": null,
      "outputs": [
        {
          "output_type": "execute_result",
          "data": {
            "text/plain": [
              "(0.9555984555984556, 0.9294871794871795, 0.9235668789808917)"
            ]
          },
          "metadata": {},
          "execution_count": 45
        }
      ]
    },
    {
      "cell_type": "markdown",
      "source": [
        "Naive Logistic Regression"
      ],
      "metadata": {
        "id": "Ti7UXU0Tonfz"
      }
    },
    {
      "cell_type": "code",
      "source": [
        "# Create Logistic Regression model with built in cross validation\n",
        "lr_model = linear_model.LogisticRegressionCV(cv=5, max_iter=500)\n",
        "lr_model.fit(x_train_counts, y_train)\n",
        "lr_train_predict = lr_model.predict(x_train_counts)\n",
        "modelStats(y_train, lr_train_predict)"
      ],
      "metadata": {
        "colab": {
          "base_uri": "https://localhost:8080/"
        },
        "id": "iuMeB2-7hSIG",
        "outputId": "f9d1d252-4b3f-4b9b-feda-81a6db768a88"
      },
      "execution_count": null,
      "outputs": [
        {
          "output_type": "stream",
          "name": "stderr",
          "text": [
            "/usr/local/lib/python3.10/dist-packages/sklearn/linear_model/_logistic.py:458: ConvergenceWarning: lbfgs failed to converge (status=1):\n",
            "STOP: TOTAL NO. of ITERATIONS REACHED LIMIT.\n",
            "\n",
            "Increase the number of iterations (max_iter) or scale the data as shown in:\n",
            "    https://scikit-learn.org/stable/modules/preprocessing.html\n",
            "Please also refer to the documentation for alternative solver options:\n",
            "    https://scikit-learn.org/stable/modules/linear_model.html#logistic-regression\n",
            "  n_iter_i = _check_optimize_result(\n"
          ]
        },
        {
          "output_type": "execute_result",
          "data": {
            "text/plain": [
              "(0.9860305179454115, 0.9577060931899641, 0.9955290611028316)"
            ]
          },
          "metadata": {},
          "execution_count": 82
        }
      ]
    },
    {
      "cell_type": "code",
      "source": [
        "# Evaluate the test set\n",
        "x_test_counts = cv.transform(x_test)\n",
        "lr_test_predict = lr_model.predict(x_test_counts)\n",
        "modelStats(y_test, lr_test_predict)"
      ],
      "metadata": {
        "colab": {
          "base_uri": "https://localhost:8080/"
        },
        "id": "cFGls99mmEcw",
        "outputId": "8ce09dfc-9eea-409d-c931-23ccead1aad5"
      },
      "execution_count": null,
      "outputs": [
        {
          "output_type": "execute_result",
          "data": {
            "text/plain": [
              "(0.9517374517374517, 0.888235294117647, 0.9617834394904459)"
            ]
          },
          "metadata": {},
          "execution_count": 85
        }
      ]
    },
    {
      "cell_type": "markdown",
      "source": [
        "Text Embedding"
      ],
      "metadata": {
        "id": "3YYDT6_Gn_Nv"
      }
    },
    {
      "cell_type": "code",
      "source": [],
      "metadata": {
        "id": "yZBlTDuCn-am"
      },
      "execution_count": null,
      "outputs": []
    }
  ]
}